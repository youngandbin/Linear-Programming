{
 "cells": [
  {
   "cell_type": "code",
   "execution_count": 1,
   "metadata": {},
   "outputs": [],
   "source": [
    "import gurobipy as gp\n",
    "from gurobipy import GRB\n"
   ]
  },
  {
   "cell_type": "code",
   "execution_count": 2,
   "metadata": {},
   "outputs": [],
   "source": [
    "# Resource and job sets\n",
    "R = ['Carlos', 'Joe', 'Monika']\n",
    "J = ['Tester', 'JavaDeveloper', 'Architect']\n"
   ]
  },
  {
   "cell_type": "code",
   "execution_count": 3,
   "metadata": {},
   "outputs": [],
   "source": [
    "# Matching score data\n",
    "combinations, scores = gp.multidict({\n",
    "    ('Carlos', 'Tester'): 53,\n",
    "    ('Carlos', 'JavaDeveloper'): 27,\n",
    "    ('Carlos', 'Architect'): 13,\n",
    "    ('Joe', 'Tester'): 80,\n",
    "    ('Joe', 'JavaDeveloper'): 47,\n",
    "    ('Joe', 'Architect'): 67,\n",
    "    ('Monika', 'Tester'): 53,\n",
    "    ('Monika', 'JavaDeveloper'): 73,\n",
    "    ('Monika', 'Architect'): 47\n",
    "})\n"
   ]
  },
  {
   "cell_type": "code",
   "execution_count": 4,
   "metadata": {},
   "outputs": [
    {
     "name": "stdout",
     "output_type": "stream",
     "text": [
      "Restricted license - for non-production use only - expires 2023-10-25\n"
     ]
    }
   ],
   "source": [
    "# Declare and initialize model\n",
    "m = gp.Model('RAP')\n"
   ]
  },
  {
   "cell_type": "code",
   "execution_count": 5,
   "metadata": {},
   "outputs": [
    {
     "data": {
      "text/plain": [
       "<gurobi.tuplelist (9 tuples, 2 values each):\n",
       " ( Carlos , Tester        )\n",
       " ( Carlos , JavaDeveloper )\n",
       " ( Carlos , Architect     )\n",
       " ( Joe    , Tester        )\n",
       " ( Joe    , JavaDeveloper )\n",
       " ( Joe    , Architect     )\n",
       " ( Monika , Tester        )\n",
       " ( Monika , JavaDeveloper )\n",
       " ( Monika , Architect     )\n",
       ">"
      ]
     },
     "execution_count": 5,
     "metadata": {},
     "output_type": "execute_result"
    }
   ],
   "source": [
    "combinations\n"
   ]
  },
  {
   "cell_type": "code",
   "execution_count": 6,
   "metadata": {},
   "outputs": [
    {
     "data": {
      "text/plain": [
       "{('Carlos', 'Tester'): <gurobi.Var *Awaiting Model Update*>,\n",
       " ('Carlos', 'JavaDeveloper'): <gurobi.Var *Awaiting Model Update*>,\n",
       " ('Carlos', 'Architect'): <gurobi.Var *Awaiting Model Update*>,\n",
       " ('Joe', 'Tester'): <gurobi.Var *Awaiting Model Update*>,\n",
       " ('Joe', 'JavaDeveloper'): <gurobi.Var *Awaiting Model Update*>,\n",
       " ('Joe', 'Architect'): <gurobi.Var *Awaiting Model Update*>,\n",
       " ('Monika', 'Tester'): <gurobi.Var *Awaiting Model Update*>,\n",
       " ('Monika', 'JavaDeveloper'): <gurobi.Var *Awaiting Model Update*>,\n",
       " ('Monika', 'Architect'): <gurobi.Var *Awaiting Model Update*>}"
      ]
     },
     "execution_count": 6,
     "metadata": {},
     "output_type": "execute_result"
    }
   ],
   "source": [
    "# Create decision variables for the RAP model\n",
    "x = m.addVars(combinations, name=\"assign\")\n",
    "x"
   ]
  },
  {
   "cell_type": "code",
   "execution_count": 8,
   "metadata": {},
   "outputs": [
    {
     "data": {
      "text/plain": [
       "{'Tester': <gurobi.Constr *Awaiting Model Update*>,\n",
       " 'JavaDeveloper': <gurobi.Constr *Awaiting Model Update*>,\n",
       " 'Architect': <gurobi.Constr *Awaiting Model Update*>}"
      ]
     },
     "execution_count": 8,
     "metadata": {},
     "output_type": "execute_result"
    }
   ],
   "source": [
    "# Create job constraints\n",
    "jobs = m.addConstrs((x.sum('*',j) == 1 for j in J), name='job')\n",
    "jobs\n"
   ]
  },
  {
   "cell_type": "code",
   "execution_count": 9,
   "metadata": {},
   "outputs": [
    {
     "data": {
      "text/plain": [
       "{'Carlos': <gurobi.Constr *Awaiting Model Update*>,\n",
       " 'Joe': <gurobi.Constr *Awaiting Model Update*>,\n",
       " 'Monika': <gurobi.Constr *Awaiting Model Update*>}"
      ]
     },
     "execution_count": 9,
     "metadata": {},
     "output_type": "execute_result"
    }
   ],
   "source": [
    "# Create resource constraints\n",
    "resources = m.addConstrs((x.sum(r,'*') <= 1 for r in R), name='resource')\n",
    "resources\n"
   ]
  },
  {
   "cell_type": "code",
   "execution_count": 10,
   "metadata": {},
   "outputs": [
    {
     "data": {
      "text/plain": [
       "{('Carlos', 'Tester'): 53,\n",
       " ('Carlos', 'JavaDeveloper'): 27,\n",
       " ('Carlos', 'Architect'): 13,\n",
       " ('Joe', 'Tester'): 80,\n",
       " ('Joe', 'JavaDeveloper'): 47,\n",
       " ('Joe', 'Architect'): 67,\n",
       " ('Monika', 'Tester'): 53,\n",
       " ('Monika', 'JavaDeveloper'): 73,\n",
       " ('Monika', 'Architect'): 47}"
      ]
     },
     "execution_count": 10,
     "metadata": {},
     "output_type": "execute_result"
    }
   ],
   "source": [
    "scores\n"
   ]
  },
  {
   "cell_type": "code",
   "execution_count": 11,
   "metadata": {},
   "outputs": [
    {
     "data": {
      "text/plain": [
       "<gurobi.LinExpr: 53.0 <gurobi.Var *Awaiting Model Update*> + 27.0 <gurobi.Var *Awaiting Model Update*> + 13.0 <gurobi.Var *Awaiting Model Update*> + 80.0 <gurobi.Var *Awaiting Model Update*> + 47.0 <gurobi.Var *Awaiting Model Update*> + 67.0 <gurobi.Var *Awaiting Model Update*> + 53.0 <gurobi.Var *Awaiting Model Update*> + 73.0 <gurobi.Var *Awaiting Model Update*> + 47.0 <gurobi.Var *Awaiting Model Update*>>"
      ]
     },
     "execution_count": 11,
     "metadata": {},
     "output_type": "execute_result"
    }
   ],
   "source": [
    "x.prod(scores)\n"
   ]
  },
  {
   "cell_type": "code",
   "execution_count": 12,
   "metadata": {},
   "outputs": [],
   "source": [
    "# Objective: maximize total matching score of all assignments\n",
    "m.setObjective(x.prod(scores), GRB.MAXIMIZE)\n"
   ]
  },
  {
   "cell_type": "code",
   "execution_count": 13,
   "metadata": {},
   "outputs": [
    {
     "name": "stdout",
     "output_type": "stream",
     "text": [
      "Warning: linear constraint 0 and linear constraint 3 have the same name \"job[Tester]\"\n",
      "Maximize\n",
      "<gurobi.LinExpr: 53.0 assign[Carlos,Tester] + 27.0 assign[Carlos,JavaDeveloper]\n",
      "+ 13.0 assign[Carlos,Architect] + 80.0 assign[Joe,Tester]\n",
      "+ 47.0 assign[Joe,JavaDeveloper] + 67.0 assign[Joe,Architect]\n",
      "+ 53.0 assign[Monika,Tester] + 73.0 assign[Monika,JavaDeveloper]\n",
      "+ 47.0 assign[Monika,Architect]>\n",
      "Subject To\n",
      "job[Tester]: <gurobi.LinExpr: assign[Carlos,Tester] + assign[Joe,Tester] +\n",
      " assign[Monika,Tester]> = 1\n",
      "job[JavaDeveloper]: <gurobi.LinExpr: assign[Carlos,JavaDeveloper] +\n",
      " assign[Joe,JavaDeveloper] + assign[Monika,JavaDeveloper]> = 1\n",
      "job[Architect]: <gurobi.LinExpr: assign[Carlos,Architect] + assign[Joe,Architect] +\n",
      " assign[Monika,Architect]> = 1\n",
      "job[Tester]: <gurobi.LinExpr: assign[Carlos,Tester] + assign[Joe,Tester] +\n",
      " assign[Monika,Tester]> = 1\n",
      "job[JavaDeveloper]: <gurobi.LinExpr: assign[Carlos,JavaDeveloper] +\n",
      " assign[Joe,JavaDeveloper] + assign[Monika,JavaDeveloper]> = 1\n",
      "job[Architect]: <gurobi.LinExpr: assign[Carlos,Architect] + assign[Joe,Architect] +\n",
      " assign[Monika,Architect]> = 1\n",
      "resource[Carlos]: <gurobi.LinExpr: assign[Carlos,Tester] + assign[Carlos,JavaDeveloper]\n",
      " + assign[Carlos,Architect]> <= 1\n",
      "resource[Joe]: <gurobi.LinExpr: assign[Joe,Tester] + assign[Joe,JavaDeveloper] +\n",
      " assign[Joe,Architect]> <= 1\n",
      "resource[Monika]: <gurobi.LinExpr: assign[Monika,Tester] + assign[Monika,JavaDeveloper]\n",
      " + assign[Monika,Architect]> <= 1\n"
     ]
    }
   ],
   "source": [
    "# Save model for inspection\n",
    "m.write('RAP.lp')\n",
    "\n",
    "m.display()\n"
   ]
  },
  {
   "cell_type": "code",
   "execution_count": 14,
   "metadata": {},
   "outputs": [
    {
     "name": "stdout",
     "output_type": "stream",
     "text": [
      "Gurobi Optimizer version 9.5.1 build v9.5.1rc2 (win64)\n",
      "Thread count: 8 physical cores, 16 logical processors, using up to 16 threads\n",
      "Optimize a model with 9 rows, 9 columns and 27 nonzeros\n",
      "Model fingerprint: 0xa4a1434c\n",
      "Coefficient statistics:\n",
      "  Matrix range     [1e+00, 1e+00]\n",
      "  Objective range  [1e+01, 8e+01]\n",
      "  Bounds range     [0e+00, 0e+00]\n",
      "  RHS range        [1e+00, 1e+00]\n",
      "Presolve removed 3 rows and 0 columns\n",
      "Presolve time: 0.00s\n",
      "Presolved: 6 rows, 9 columns, 18 nonzeros\n",
      "\n",
      "Iteration    Objective       Primal Inf.    Dual Inf.      Time\n",
      "       0    2.2000000e+02   1.000000e+00   0.000000e+00      0s\n",
      "       2    1.9300000e+02   0.000000e+00   0.000000e+00      0s\n",
      "\n",
      "Solved in 2 iterations and 0.01 seconds (0.00 work units)\n",
      "Optimal objective  1.930000000e+02\n"
     ]
    }
   ],
   "source": [
    "# Run optimization engine\n",
    "m.optimize()\n"
   ]
  },
  {
   "cell_type": "code",
   "execution_count": 15,
   "metadata": {},
   "outputs": [
    {
     "name": "stdout",
     "output_type": "stream",
     "text": [
      "assign[Carlos,Tester] 1.0\n",
      "assign[Joe,Architect] 1.0\n",
      "assign[Monika,JavaDeveloper] 1.0\n",
      "Total matching score:  193.0\n"
     ]
    }
   ],
   "source": [
    "# Display optimal values of decision variables\n",
    "for v in m.getVars():\n",
    "    if v.x > 1e-6:\n",
    "        print(v.varName, v.x)\n",
    "\n",
    "# Display optimal total matching score\n",
    "print('Total matching score: ', m.objVal)\n"
   ]
  },
  {
   "cell_type": "code",
   "execution_count": null,
   "metadata": {},
   "outputs": [],
   "source": []
  }
 ],
 "metadata": {
  "interpreter": {
   "hash": "0b3ae4e0637a1e7c3c1b0592e8bf14b8d159da4305e72131b2fefce9c9d4b350"
  },
  "kernelspec": {
   "display_name": "Python 3.9.7 64-bit",
   "language": "python",
   "name": "python3"
  },
  "language_info": {
   "codemirror_mode": {
    "name": "ipython",
    "version": 3
   },
   "file_extension": ".py",
   "mimetype": "text/x-python",
   "name": "python",
   "nbconvert_exporter": "python",
   "pygments_lexer": "ipython3",
   "version": "3.9.7"
  },
  "orig_nbformat": 4
 },
 "nbformat": 4,
 "nbformat_minor": 2
}
