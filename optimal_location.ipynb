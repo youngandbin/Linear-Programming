{
 "cells": [
  {
   "cell_type": "markdown",
   "metadata": {},
   "source": [
    "# 0. packages, data"
   ]
  },
  {
   "cell_type": "code",
   "execution_count": 2,
   "metadata": {},
   "outputs": [],
   "source": [
    "import gurobipy as gp\n",
    "from gurobipy import GRB\n",
    "\n",
    "import numpy as np\n",
    "import pandas as pd\n",
    "from scipy.spatial import distance\n",
    "from sklearn.metrics.pairwise import haversine_distances\n",
    "from math import radians\n"
   ]
  },
  {
   "cell_type": "markdown",
   "metadata": {},
   "source": [
    "# 1. Variables"
   ]
  },
  {
   "cell_type": "code",
   "execution_count": 3,
   "metadata": {},
   "outputs": [
    {
     "data": {
      "text/plain": [
       "{'수요1': ([125, 36], 10),\n",
       " '수요2': ([153, 39], 40),\n",
       " '수요3': ([102, 33], 20),\n",
       " '수요4': ([111, 31], 20),\n",
       " '수요5': ([132, 36], 30),\n",
       " '수요6': ([199, 33], 10),\n",
       " '수요7': ([110, 30], 30),\n",
       " '수요8': ([100, 35], 50),\n",
       " '수요9': ([122, 35], 30),\n",
       " '수요10': ([131, 31], 10)}"
      ]
     },
     "execution_count": 3,
     "metadata": {},
     "output_type": "execute_result"
    }
   ],
   "source": [
    "# 수요 포인트 I\n",
    "\n",
    "I = {'수요1':([125, 36], 10), '수요2':([153, 39], 40), '수요3':([102, 33], 20), \n",
    "     '수요4':([111, 31], 20), '수요5':([132, 36], 30), '수요6':([199, 33], 10), \n",
    "     '수요7':([110, 30], 30), '수요8':([100, 35], 50), '수요9':([122, 35], 30), '수요10':([131, 31], 10)}\n",
    "I"
   ]
  },
  {
   "cell_type": "code",
   "execution_count": 4,
   "metadata": {},
   "outputs": [
    {
     "data": {
      "text/plain": [
       "{'강릉': ([122, 29], 0),\n",
       " '춘천': ([101, 28], 0),\n",
       " '진주': ([100, 31], 0),\n",
       " '구미': ([132, 36], 0)}"
      ]
     },
     "execution_count": 4,
     "metadata": {},
     "output_type": "execute_result"
    }
   ],
   "source": [
    "# 입지 후보지 J\n",
    "\n",
    "J = {'강릉': ([122, 29], 0), '춘천': ([101, 28], 0), '진주' : ([100, 31], 0), '구미':([132, 36], 0)}\n",
    "J"
   ]
  },
  {
   "cell_type": "code",
   "execution_count": 5,
   "metadata": {},
   "outputs": [
    {
     "data": {
      "text/plain": [
       "{'잠실구장': ([125, 30], 0),\n",
       " '부산구장': ([121, 40], 0),\n",
       " '인천구장': ([164, 30], 0),\n",
       " '대구구장': ([177, 38], 0),\n",
       " '광주구장': ([100, 40], 0)}"
      ]
     },
     "execution_count": 5,
     "metadata": {},
     "output_type": "execute_result"
    }
   ],
   "source": [
    "# 기존 야구장 R\n",
    "\n",
    "R = {'잠실구장': ([125, 30], 0), '부산구장': ([121, 40], 0), '인천구장': (\n",
    "    [164, 30], 0), '대구구장': ([177, 38], 0), '광주구장': ([100, 40], 0)}\n",
    "R"
   ]
  },
  {
   "cell_type": "code",
   "execution_count": 6,
   "metadata": {},
   "outputs": [
    {
     "data": {
      "text/html": [
       "<div>\n",
       "<style scoped>\n",
       "    .dataframe tbody tr th:only-of-type {\n",
       "        vertical-align: middle;\n",
       "    }\n",
       "\n",
       "    .dataframe tbody tr th {\n",
       "        vertical-align: top;\n",
       "    }\n",
       "\n",
       "    .dataframe thead th {\n",
       "        text-align: right;\n",
       "    }\n",
       "</style>\n",
       "<table border=\"1\" class=\"dataframe\">\n",
       "  <thead>\n",
       "    <tr style=\"text-align: right;\">\n",
       "      <th></th>\n",
       "      <th>0</th>\n",
       "      <th>1</th>\n",
       "      <th>2</th>\n",
       "      <th>3</th>\n",
       "      <th>4</th>\n",
       "      <th>5</th>\n",
       "      <th>6</th>\n",
       "      <th>7</th>\n",
       "      <th>8</th>\n",
       "      <th>9</th>\n",
       "    </tr>\n",
       "  </thead>\n",
       "  <tbody>\n",
       "    <tr>\n",
       "      <th>0</th>\n",
       "      <td>543.462518</td>\n",
       "      <td>3534.772371</td>\n",
       "      <td>2228.892498</td>\n",
       "      <td>1227.000864</td>\n",
       "      <td>1205.063865</td>\n",
       "      <td>8569.988731</td>\n",
       "      <td>1335.184726</td>\n",
       "      <td>2454.847349</td>\n",
       "      <td>353.429798</td>\n",
       "      <td>1009.342977</td>\n",
       "    </tr>\n",
       "    <tr>\n",
       "      <th>1</th>\n",
       "      <td>2685.312841</td>\n",
       "      <td>5807.351310</td>\n",
       "      <td>156.908277</td>\n",
       "      <td>1115.382239</td>\n",
       "      <td>3462.382120</td>\n",
       "      <td>10901.519879</td>\n",
       "      <td>1002.372116</td>\n",
       "      <td>180.042364</td>\n",
       "      <td>2348.455815</td>\n",
       "      <td>3338.033136</td>\n",
       "    </tr>\n",
       "    <tr>\n",
       "      <th>2</th>\n",
       "      <td>2785.581285</td>\n",
       "      <td>5905.334427</td>\n",
       "      <td>226.369198</td>\n",
       "      <td>1223.144193</td>\n",
       "      <td>3563.549903</td>\n",
       "      <td>11008.942905</td>\n",
       "      <td>1112.281091</td>\n",
       "      <td>77.219974</td>\n",
       "      <td>2450.097809</td>\n",
       "      <td>3447.042726</td>\n",
       "    </tr>\n",
       "    <tr>\n",
       "      <th>3</th>\n",
       "      <td>778.364487</td>\n",
       "      <td>2349.576328</td>\n",
       "      <td>3338.276378</td>\n",
       "      <td>2351.262149</td>\n",
       "      <td>0.000000</td>\n",
       "      <td>7456.059982</td>\n",
       "      <td>2467.522701</td>\n",
       "      <td>3558.450408</td>\n",
       "      <td>1113.928920</td>\n",
       "      <td>384.730888</td>\n",
       "    </tr>\n",
       "  </tbody>\n",
       "</table>\n",
       "</div>"
      ],
      "text/plain": [
       "             0            1            2            3            4  \\\n",
       "0   543.462518  3534.772371  2228.892498  1227.000864  1205.063865   \n",
       "1  2685.312841  5807.351310   156.908277  1115.382239  3462.382120   \n",
       "2  2785.581285  5905.334427   226.369198  1223.144193  3563.549903   \n",
       "3   778.364487  2349.576328  3338.276378  2351.262149     0.000000   \n",
       "\n",
       "              5            6            7            8            9  \n",
       "0   8569.988731  1335.184726  2454.847349   353.429798  1009.342977  \n",
       "1  10901.519879  1002.372116   180.042364  2348.455815  3338.033136  \n",
       "2  11008.942905  1112.281091    77.219974  2450.097809  3447.042726  \n",
       "3   7456.059982  2467.522701  3558.450408  1113.928920   384.730888  "
      ]
     },
     "execution_count": 6,
     "metadata": {},
     "output_type": "execute_result"
    }
   ],
   "source": [
    "# 입지 후보지 j에서 수요 포인트 i까지의 거리 D\n",
    "\n",
    "d_ji = np.array([])\n",
    "for j_key, j_value in J.items():\n",
    "    for i_key, i_value in I.items():\n",
    "        # d = distance.euclidean(j_value[0], i_value[0])\n",
    "        d = haversine_distances([[radians(_) for _ in j_value[0]], [\n",
    "                                radians(_) for _ in i_value[0]]]) * 6371000/1000\n",
    "        d = d[0][1]\n",
    "        d_ji = np.append(d_ji, d)\n",
    "d_ji = d_ji.reshape(len(J), len(I))\n",
    "\n",
    "D = d_ji\n",
    "pd.DataFrame(D)"
   ]
  },
  {
   "cell_type": "code",
   "execution_count": 7,
   "metadata": {},
   "outputs": [
    {
     "data": {
      "text/plain": [
       "array([[1., 0., 1., 1., 1., 0., 1., 1., 1., 1.],\n",
       "       [1., 0., 1., 1., 0., 0., 1., 1., 1., 0.],\n",
       "       [1., 0., 1., 1., 0., 0., 1., 1., 1., 0.],\n",
       "       [1., 1., 0., 1., 1., 0., 1., 0., 1., 1.]])"
      ]
     },
     "execution_count": 7,
     "metadata": {},
     "output_type": "execute_result"
    }
   ],
   "source": [
    "# 입지 후보지 j가 수요 포인트 i의 고려 수요 대상인지 나타내는 이진법 변수 E\n",
    "\n",
    "thresh = 3000  # U_j\n",
    "e_ji = np.select([d_ji > thresh, d_ji <= thresh], [\n",
    "                 np.zeros_like(d_ji), np.ones_like(d_ji)])\n",
    "\n",
    "E = e_ji\n",
    "E"
   ]
  },
  {
   "cell_type": "code",
   "execution_count": 8,
   "metadata": {},
   "outputs": [
    {
     "data": {
      "text/plain": [
       "[10, 40, 20, 20, 30, 10, 30, 50, 30, 10]"
      ]
     },
     "execution_count": 8,
     "metadata": {},
     "output_type": "execute_result"
    }
   ],
   "source": [
    "# 수요 포인트 i의 야구장 수요 A\n",
    "\n",
    "A = [i[1] for i in [*I.values()]]\n",
    "A"
   ]
  },
  {
   "cell_type": "code",
   "execution_count": 9,
   "metadata": {},
   "outputs": [
    {
     "data": {
      "text/html": [
       "<div>\n",
       "<style scoped>\n",
       "    .dataframe tbody tr th:only-of-type {\n",
       "        vertical-align: middle;\n",
       "    }\n",
       "\n",
       "    .dataframe tbody tr th {\n",
       "        vertical-align: top;\n",
       "    }\n",
       "\n",
       "    .dataframe thead th {\n",
       "        text-align: right;\n",
       "    }\n",
       "</style>\n",
       "<table border=\"1\" class=\"dataframe\">\n",
       "  <thead>\n",
       "    <tr style=\"text-align: right;\">\n",
       "      <th></th>\n",
       "      <th>0</th>\n",
       "      <th>1</th>\n",
       "      <th>2</th>\n",
       "      <th>3</th>\n",
       "      <th>4</th>\n",
       "    </tr>\n",
       "  </thead>\n",
       "  <tbody>\n",
       "    <tr>\n",
       "      <th>0</th>\n",
       "      <td>339.173377</td>\n",
       "      <td>647.917062</td>\n",
       "      <td>4670.925561</td>\n",
       "      <td>6166.253841</td>\n",
       "      <td>2474.882968</td>\n",
       "    </tr>\n",
       "    <tr>\n",
       "      <th>1</th>\n",
       "      <td>2669.722347</td>\n",
       "      <td>2263.562624</td>\n",
       "      <td>7006.079281</td>\n",
       "      <td>8469.815053</td>\n",
       "      <td>266.743701</td>\n",
       "    </tr>\n",
       "    <tr>\n",
       "      <th>2</th>\n",
       "      <td>2780.101841</td>\n",
       "      <td>2354.590896</td>\n",
       "      <td>7116.655512</td>\n",
       "      <td>8570.459659</td>\n",
       "      <td>173.605934</td>\n",
       "    </tr>\n",
       "    <tr>\n",
       "      <th>3</th>\n",
       "      <td>881.484477</td>\n",
       "      <td>1250.864311</td>\n",
       "      <td>3600.377354</td>\n",
       "      <td>5007.438215</td>\n",
       "      <td>3561.639085</td>\n",
       "    </tr>\n",
       "  </tbody>\n",
       "</table>\n",
       "</div>"
      ],
      "text/plain": [
       "             0            1            2            3            4\n",
       "0   339.173377   647.917062  4670.925561  6166.253841  2474.882968\n",
       "1  2669.722347  2263.562624  7006.079281  8469.815053   266.743701\n",
       "2  2780.101841  2354.590896  7116.655512  8570.459659   173.605934\n",
       "3   881.484477  1250.864311  3600.377354  5007.438215  3561.639085"
      ]
     },
     "execution_count": 9,
     "metadata": {},
     "output_type": "execute_result"
    }
   ],
   "source": [
    "# 입지 후보지 j에서 기존 야구장 r까지의 거리 T\n",
    "\n",
    "t_jr = np.array([])\n",
    "for j_key, j_value in J.items():\n",
    "    for r_key, r_value in R.items():\n",
    "        # d = distance.euclidean(j_value[0], r_value[0])\n",
    "        d = haversine_distances([[radians(_) for _ in j_value[0]], [\n",
    "                                radians(_) for _ in r_value[0]]]) * 6371000/1000\n",
    "        d = d[0][1]\n",
    "        t_jr = np.append(t_jr, d)\n",
    "t_jr = t_jr.reshape(len(J), len(R))\n",
    "\n",
    "T = t_jr\n",
    "pd.DataFrame(T)"
   ]
  },
  {
   "cell_type": "code",
   "execution_count": 41,
   "metadata": {},
   "outputs": [
    {
     "data": {
      "text/plain": [
       "{'강릉': 200.0, '춘천': 160.0, '진주': 160.0, '구미': 170.0}"
      ]
     },
     "execution_count": 41,
     "metadata": {},
     "output_type": "execute_result"
    }
   ],
   "source": [
    "# 입지 후보지 j에 야구장 설립 시 예상되는 수요\n",
    "\n",
    "values = [ E[e].dot(A) for e in range(len(E)) ]\n",
    "names = J.keys()\n",
    "N = dict(zip(names, values))\n",
    "N"
   ]
  },
  {
   "cell_type": "markdown",
   "metadata": {},
   "source": [
    "# 2. Formulation"
   ]
  },
  {
   "cell_type": "code",
   "execution_count": 45,
   "metadata": {},
   "outputs": [
    {
     "data": {
      "text/plain": [
       "{'강릉': 200.0, '춘천': 160.0, '진주': 160.0, '구미': 170.0}"
      ]
     },
     "execution_count": 45,
     "metadata": {},
     "output_type": "execute_result"
    }
   ],
   "source": [
    "key_J, loc_J, demand_J = gp.multidict(J) # 각각 list, dict, dict\n",
    "\n",
    "for key, value in demand_J.items():\n",
    "    # do something with value\n",
    "    demand_J[key] = N[key]\n",
    "demand_J\n"
   ]
  },
  {
   "cell_type": "code",
   "execution_count": 46,
   "metadata": {},
   "outputs": [
    {
     "data": {
      "text/plain": [
       "<gurobi.Model Continuous instance Optimal Location: 0 constrs, 0 vars, No parameter changes>"
      ]
     },
     "execution_count": 46,
     "metadata": {},
     "output_type": "execute_result"
    }
   ],
   "source": [
    "# Declare and initialize model\n",
    "m = gp.Model('Optimal Location')\n",
    "m"
   ]
  },
  {
   "cell_type": "code",
   "execution_count": 58,
   "metadata": {},
   "outputs": [
    {
     "data": {
      "text/plain": [
       "['강릉', '춘천', '진주', '구미']"
      ]
     },
     "execution_count": 58,
     "metadata": {},
     "output_type": "execute_result"
    }
   ],
   "source": [
    "loc_J.keys()"
   ]
  },
  {
   "cell_type": "code",
   "execution_count": 47,
   "metadata": {},
   "outputs": [
    {
     "data": {
      "text/plain": [
       "{'강릉': <gurobi.Var *Awaiting Model Update*>,\n",
       " '춘천': <gurobi.Var *Awaiting Model Update*>,\n",
       " '진주': <gurobi.Var *Awaiting Model Update*>,\n",
       " '구미': <gurobi.Var *Awaiting Model Update*>}"
      ]
     },
     "execution_count": 47,
     "metadata": {},
     "output_type": "execute_result"
    }
   ],
   "source": [
    "# Create decision variables \n",
    "x = m.addVars(key_J, name=\"assign\")\n",
    "x"
   ]
  },
  {
   "cell_type": "code",
   "execution_count": 48,
   "metadata": {},
   "outputs": [
    {
     "data": {
      "text/plain": [
       "<gurobi.LinExpr: 200.0 <gurobi.Var *Awaiting Model Update*> + 160.0 <gurobi.Var *Awaiting Model Update*> + 160.0 <gurobi.Var *Awaiting Model Update*> + 170.0 <gurobi.Var *Awaiting Model Update*>>"
      ]
     },
     "execution_count": 48,
     "metadata": {},
     "output_type": "execute_result"
    }
   ],
   "source": [
    "x.prod(demand_J)"
   ]
  },
  {
   "cell_type": "code",
   "execution_count": 49,
   "metadata": {},
   "outputs": [],
   "source": [
    "# Objective: maximize total matching score of all assignments\n",
    "m.setObjective(x.prod(demand_J), GRB.MAXIMIZE)\n"
   ]
  },
  {
   "cell_type": "code",
   "execution_count": 52,
   "metadata": {},
   "outputs": [],
   "source": [
    "# Save model for inspection\n",
    "m.write('Optimal_Location.lp')\n",
    "# m.display()\n"
   ]
  },
  {
   "cell_type": "code",
   "execution_count": 53,
   "metadata": {},
   "outputs": [
    {
     "name": "stdout",
     "output_type": "stream",
     "text": [
      "Gurobi Optimizer version 9.5.1 build v9.5.1rc2 (win64)\n",
      "Thread count: 8 physical cores, 16 logical processors, using up to 16 threads\n",
      "Optimize a model with 0 rows, 4 columns and 0 nonzeros\n",
      "Model fingerprint: 0xe3643a83\n",
      "Coefficient statistics:\n",
      "  Matrix range     [0e+00, 0e+00]\n",
      "  Objective range  [2e+02, 2e+02]\n",
      "  Bounds range     [0e+00, 0e+00]\n",
      "  RHS range        [0e+00, 0e+00]\n",
      "Presolve time: 0.00s\n",
      "\n",
      "Solved in 0 iterations and 0.00 seconds (0.00 work units)\n",
      "Unbounded model\n"
     ]
    }
   ],
   "source": [
    "# Run optimization engine\n",
    "m.optimize()\n"
   ]
  },
  {
   "cell_type": "code",
   "execution_count": null,
   "metadata": {},
   "outputs": [],
   "source": [
    "# Display optimal values of decision variables\n",
    "for v in m.getVars():\n",
    "    if v.x > 1e-6:\n",
    "        print(v.varName, v.x)\n",
    "\n",
    "# Display optimal total matching score\n",
    "print('Total matching score: ', m.objVal)\n"
   ]
  }
 ],
 "metadata": {
  "interpreter": {
   "hash": "0b3ae4e0637a1e7c3c1b0592e8bf14b8d159da4305e72131b2fefce9c9d4b350"
  },
  "kernelspec": {
   "display_name": "Python 3.9.7 64-bit",
   "language": "python",
   "name": "python3"
  },
  "language_info": {
   "codemirror_mode": {
    "name": "ipython",
    "version": 3
   },
   "file_extension": ".py",
   "mimetype": "text/x-python",
   "name": "python",
   "nbconvert_exporter": "python",
   "pygments_lexer": "ipython3",
   "version": "3.9.7"
  },
  "orig_nbformat": 4
 },
 "nbformat": 4,
 "nbformat_minor": 2
}
